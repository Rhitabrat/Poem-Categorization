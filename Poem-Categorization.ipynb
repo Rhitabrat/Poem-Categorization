{
 "cells": [
  {
   "cell_type": "code",
   "execution_count": 323,
   "metadata": {},
   "outputs": [],
   "source": [
    "import numpy as np\n",
    "import pandas as pd\n",
    "import seaborn as sns\n",
    "from sklearn import metrics\n",
    "from sklearn.metrics import confusion_matrix\n",
    "from sklearn.metrics import classification_report\n",
    "\n",
    "# Importing dataset\n",
    "dataset = pd.read_csv('poem-dataset.csv')"
   ]
  },
  {
   "cell_type": "code",
   "execution_count": 324,
   "metadata": {},
   "outputs": [
    {
     "data": {
      "text/plain": [
       "(513, 5)"
      ]
     },
     "execution_count": 324,
     "metadata": {},
     "output_type": "execute_result"
    }
   ],
   "source": [
    "# Number of rows and columns\n",
    "dataset.shape"
   ]
  },
  {
   "cell_type": "code",
   "execution_count": 325,
   "metadata": {},
   "outputs": [
    {
     "name": "stdout",
     "output_type": "stream",
     "text": [
      "91490\n"
     ]
    }
   ],
   "source": [
    "# Word count\n",
    "count = 0\n",
    "for word in dataset.content:\n",
    "    word = word.split()\n",
    "    count += len(word)\n",
    "print(count)"
   ]
  },
  {
   "cell_type": "code",
   "execution_count": 326,
   "metadata": {},
   "outputs": [
    {
     "data": {
      "text/html": [
       "<div>\n",
       "<style scoped>\n",
       "    .dataframe tbody tr th:only-of-type {\n",
       "        vertical-align: middle;\n",
       "    }\n",
       "\n",
       "    .dataframe tbody tr th {\n",
       "        vertical-align: top;\n",
       "    }\n",
       "\n",
       "    .dataframe thead th {\n",
       "        text-align: right;\n",
       "    }\n",
       "</style>\n",
       "<table border=\"1\" class=\"dataframe\">\n",
       "  <thead>\n",
       "    <tr style=\"text-align: right;\">\n",
       "      <th></th>\n",
       "      <th>author</th>\n",
       "      <th>content</th>\n",
       "      <th>poem name</th>\n",
       "      <th>age</th>\n",
       "      <th>type</th>\n",
       "    </tr>\n",
       "  </thead>\n",
       "  <tbody>\n",
       "    <tr>\n",
       "      <th>5</th>\n",
       "      <td>GEOFFREY CHAUCER</td>\n",
       "      <td>Now welcome, somer, with thy sonne softe,\\nTha...</td>\n",
       "      <td>The Parlement of Fowls \\n</td>\n",
       "      <td>NaN</td>\n",
       "      <td>Relationships</td>\n",
       "    </tr>\n",
       "    <tr>\n",
       "      <th>11</th>\n",
       "      <td>TARFIA FAIZULLAH</td>\n",
       "      <td>My sister died. He raped me. They beat me. I f...</td>\n",
       "      <td>100 Bells \\n</td>\n",
       "      <td>NaN</td>\n",
       "      <td>Relationships</td>\n",
       "    </tr>\n",
       "    <tr>\n",
       "      <th>59</th>\n",
       "      <td>Amanda Jernigan</td>\n",
       "      <td>They billow from a hillside in Cha’am. \\nToget...</td>\n",
       "      <td>Bats</td>\n",
       "      <td>NaN</td>\n",
       "      <td>Relationships</td>\n",
       "    </tr>\n",
       "    <tr>\n",
       "      <th>60</th>\n",
       "      <td>Rita Ann Higgins</td>\n",
       "      <td>For Christ’s sake,\\nlearn to type\\nand have so...</td>\n",
       "      <td>Be Someone \\n</td>\n",
       "      <td>NaN</td>\n",
       "      <td>Relationships</td>\n",
       "    </tr>\n",
       "    <tr>\n",
       "      <th>61</th>\n",
       "      <td>Eloise Klein Healy</td>\n",
       "      <td>The cliff above where we stand is crumbling\\na...</td>\n",
       "      <td>The Beach at Sunset</td>\n",
       "      <td>NaN</td>\n",
       "      <td>Relationships</td>\n",
       "    </tr>\n",
       "    <tr>\n",
       "      <th>62</th>\n",
       "      <td>Geoffrey Chaucer</td>\n",
       "      <td>Fle fro the pres, and dwelle with sothefastnes...</td>\n",
       "      <td>Truth</td>\n",
       "      <td>NaN</td>\n",
       "      <td>Relationships</td>\n",
       "    </tr>\n",
       "    <tr>\n",
       "      <th>63</th>\n",
       "      <td>tephanie Burt</td>\n",
       "      <td>I can remember when I wanted X\\nmore than anyt...</td>\n",
       "      <td>A Covered Bridge in Littleton, New Hampshire</td>\n",
       "      <td>NaN</td>\n",
       "      <td>Relationships</td>\n",
       "    </tr>\n",
       "    <tr>\n",
       "      <th>64</th>\n",
       "      <td>John Wilmot Earl of Rochester</td>\n",
       "      <td>I cannot change, as others do, \\nThough you un...</td>\n",
       "      <td>Constancy</td>\n",
       "      <td>NaN</td>\n",
       "      <td>Relationships</td>\n",
       "    </tr>\n",
       "    <tr>\n",
       "      <th>65</th>\n",
       "      <td>Hannah Lowe</td>\n",
       "      <td>I carry you, a fleck, to Jamaica At the Chines...</td>\n",
       "      <td>Genealogy</td>\n",
       "      <td>NaN</td>\n",
       "      <td>Relationships</td>\n",
       "    </tr>\n",
       "    <tr>\n",
       "      <th>116</th>\n",
       "      <td>Tsering Wangmo Dhompa</td>\n",
       "      <td>A hundred and one butter lamps are offered to ...</td>\n",
       "      <td>Bardo</td>\n",
       "      <td>NaN</td>\n",
       "      <td>Relationships</td>\n",
       "    </tr>\n",
       "    <tr>\n",
       "      <th>364</th>\n",
       "      <td>RICHARD ALDINGTON</td>\n",
       "      <td>The ancient songs\\r\\nPass deathward mournfully...</td>\n",
       "      <td>NaN</td>\n",
       "      <td>Modern</td>\n",
       "      <td>Mythology &amp; Folklore</td>\n",
       "    </tr>\n",
       "    <tr>\n",
       "      <th>499</th>\n",
       "      <td>RICHARD ALDINGTON</td>\n",
       "      <td>The ancient songs\\r\\nPass deathward mournfully...</td>\n",
       "      <td>NaN</td>\n",
       "      <td>Modern</td>\n",
       "      <td>Nature</td>\n",
       "    </tr>\n",
       "  </tbody>\n",
       "</table>\n",
       "</div>"
      ],
      "text/plain": [
       "                            author  \\\n",
       "5                 GEOFFREY CHAUCER   \n",
       "11                TARFIA FAIZULLAH   \n",
       "59                 Amanda Jernigan   \n",
       "60                Rita Ann Higgins   \n",
       "61              Eloise Klein Healy   \n",
       "62                Geoffrey Chaucer   \n",
       "63                   tephanie Burt   \n",
       "64   John Wilmot Earl of Rochester   \n",
       "65                     Hannah Lowe   \n",
       "116          Tsering Wangmo Dhompa   \n",
       "364              RICHARD ALDINGTON   \n",
       "499              RICHARD ALDINGTON   \n",
       "\n",
       "                                               content  \\\n",
       "5    Now welcome, somer, with thy sonne softe,\\nTha...   \n",
       "11   My sister died. He raped me. They beat me. I f...   \n",
       "59   They billow from a hillside in Cha’am. \\nToget...   \n",
       "60   For Christ’s sake,\\nlearn to type\\nand have so...   \n",
       "61   The cliff above where we stand is crumbling\\na...   \n",
       "62   Fle fro the pres, and dwelle with sothefastnes...   \n",
       "63   I can remember when I wanted X\\nmore than anyt...   \n",
       "64   I cannot change, as others do, \\nThough you un...   \n",
       "65   I carry you, a fleck, to Jamaica At the Chines...   \n",
       "116  A hundred and one butter lamps are offered to ...   \n",
       "364  The ancient songs\\r\\nPass deathward mournfully...   \n",
       "499  The ancient songs\\r\\nPass deathward mournfully...   \n",
       "\n",
       "                                        poem name     age  \\\n",
       "5                       The Parlement of Fowls \\n     NaN   \n",
       "11                                   100 Bells \\n     NaN   \n",
       "59                                           Bats     NaN   \n",
       "60                                  Be Someone \\n     NaN   \n",
       "61                            The Beach at Sunset     NaN   \n",
       "62                                          Truth     NaN   \n",
       "63   A Covered Bridge in Littleton, New Hampshire     NaN   \n",
       "64                                      Constancy     NaN   \n",
       "65                                      Genealogy     NaN   \n",
       "116                                         Bardo     NaN   \n",
       "364                                           NaN  Modern   \n",
       "499                                           NaN  Modern   \n",
       "\n",
       "                     type  \n",
       "5           Relationships  \n",
       "11          Relationships  \n",
       "59          Relationships  \n",
       "60          Relationships  \n",
       "61          Relationships  \n",
       "62          Relationships  \n",
       "63          Relationships  \n",
       "64          Relationships  \n",
       "65          Relationships  \n",
       "116         Relationships  \n",
       "364  Mythology & Folklore  \n",
       "499                Nature  "
      ]
     },
     "execution_count": 326,
     "metadata": {},
     "output_type": "execute_result"
    }
   ],
   "source": [
    "# Row with missing value\n",
    "row_null = dataset[dataset.isnull().any(axis=1)]\n",
    "row_null"
   ]
  },
  {
   "cell_type": "code",
   "execution_count": 327,
   "metadata": {},
   "outputs": [],
   "source": [
    "# We need only the content column. \n",
    "# Since the content column is not null in any of the rows, we leave the above \"row_null\" as it is."
   ]
  },
  {
   "cell_type": "code",
   "execution_count": 328,
   "metadata": {},
   "outputs": [
    {
     "data": {
      "text/html": [
       "<div>\n",
       "<style scoped>\n",
       "    .dataframe tbody tr th:only-of-type {\n",
       "        vertical-align: middle;\n",
       "    }\n",
       "\n",
       "    .dataframe tbody tr th {\n",
       "        vertical-align: top;\n",
       "    }\n",
       "\n",
       "    .dataframe thead th {\n",
       "        text-align: right;\n",
       "    }\n",
       "</style>\n",
       "<table border=\"1\" class=\"dataframe\">\n",
       "  <thead>\n",
       "    <tr style=\"text-align: right;\">\n",
       "      <th></th>\n",
       "      <th>author</th>\n",
       "      <th>content</th>\n",
       "      <th>poem name</th>\n",
       "      <th>age</th>\n",
       "      <th>type</th>\n",
       "    </tr>\n",
       "  </thead>\n",
       "  <tbody>\n",
       "    <tr>\n",
       "      <th>0</th>\n",
       "      <td>WILLIAM SHAKESPEARE</td>\n",
       "      <td>Let the bird of loudest lay\\r\\nOn the sole Ara...</td>\n",
       "      <td>The Phoenix and the Turtle</td>\n",
       "      <td>Renaissance</td>\n",
       "      <td>Mythology &amp; Folklore</td>\n",
       "    </tr>\n",
       "    <tr>\n",
       "      <th>1</th>\n",
       "      <td>DUCHESS OF NEWCASTLE MARGARET CAVENDISH</td>\n",
       "      <td>Sir Charles into my chamber coming in,\\r\\nWhen...</td>\n",
       "      <td>An Epilogue to the Above</td>\n",
       "      <td>Renaissance</td>\n",
       "      <td>Mythology &amp; Folklore</td>\n",
       "    </tr>\n",
       "    <tr>\n",
       "      <th>2</th>\n",
       "      <td>THOMAS BASTARD</td>\n",
       "      <td>Our vice runs beyond all that old men saw,\\r\\n...</td>\n",
       "      <td>Book 7, Epigram 42</td>\n",
       "      <td>Renaissance</td>\n",
       "      <td>Mythology &amp; Folklore</td>\n",
       "    </tr>\n",
       "    <tr>\n",
       "      <th>3</th>\n",
       "      <td>EDMUND SPENSER</td>\n",
       "      <td>Lo I the man, whose Muse whilome did maske,\\r\\...</td>\n",
       "      <td>from The Faerie Queene: Book I, Canto I</td>\n",
       "      <td>Renaissance</td>\n",
       "      <td>Mythology &amp; Folklore</td>\n",
       "    </tr>\n",
       "    <tr>\n",
       "      <th>4</th>\n",
       "      <td>RICHARD BARNFIELD</td>\n",
       "      <td>Long have I longd to see my love againe,\\r\\nSt...</td>\n",
       "      <td>Sonnet 16</td>\n",
       "      <td>Renaissance</td>\n",
       "      <td>Mythology &amp; Folklore</td>\n",
       "    </tr>\n",
       "  </tbody>\n",
       "</table>\n",
       "</div>"
      ],
      "text/plain": [
       "                                    author  \\\n",
       "0                      WILLIAM SHAKESPEARE   \n",
       "1  DUCHESS OF NEWCASTLE MARGARET CAVENDISH   \n",
       "2                           THOMAS BASTARD   \n",
       "3                           EDMUND SPENSER   \n",
       "4                        RICHARD BARNFIELD   \n",
       "\n",
       "                                             content  \\\n",
       "0  Let the bird of loudest lay\\r\\nOn the sole Ara...   \n",
       "1  Sir Charles into my chamber coming in,\\r\\nWhen...   \n",
       "2  Our vice runs beyond all that old men saw,\\r\\n...   \n",
       "3  Lo I the man, whose Muse whilome did maske,\\r\\...   \n",
       "4  Long have I longd to see my love againe,\\r\\nSt...   \n",
       "\n",
       "                                 poem name          age                  type  \n",
       "0               The Phoenix and the Turtle  Renaissance  Mythology & Folklore  \n",
       "1                 An Epilogue to the Above  Renaissance  Mythology & Folklore  \n",
       "2                       Book 7, Epigram 42  Renaissance  Mythology & Folklore  \n",
       "3  from The Faerie Queene: Book I, Canto I  Renaissance  Mythology & Folklore  \n",
       "4                                Sonnet 16  Renaissance  Mythology & Folklore  "
      ]
     },
     "execution_count": 328,
     "metadata": {},
     "output_type": "execute_result"
    }
   ],
   "source": [
    "dataset.head()"
   ]
  },
  {
   "cell_type": "code",
   "execution_count": 329,
   "metadata": {},
   "outputs": [
    {
     "data": {
      "text/plain": [
       "0    let the bird of loudest lay\\r\\non the sole ara...\n",
       "1    sir charles into my chamber coming in,\\r\\nwhen...\n",
       "2    our vice runs beyond all that old men saw,\\r\\n...\n",
       "3    lo i the man, whose muse whilome did maske,\\r\\...\n",
       "4    long have i longd to see my love againe,\\r\\nst...\n",
       "Name: content, dtype: object"
      ]
     },
     "execution_count": 329,
     "metadata": {},
     "output_type": "execute_result"
    }
   ],
   "source": [
    "# Lowercasing\n",
    "dataset['content'] = dataset[\"content\"].str.lower()\n",
    "dataset['content'].head()"
   ]
  },
  {
   "cell_type": "code",
   "execution_count": 330,
   "metadata": {},
   "outputs": [
    {
     "data": {
      "text/plain": [
       "0    let the bird of loudest lay\\r\\non the sole ara...\n",
       "1    sir charles into my chamber coming in\\r\\nwhen ...\n",
       "2    our vice runs beyond all that old men saw\\r\\na...\n",
       "3    lo i the man whose muse whilome did maske\\r\\na...\n",
       "4    long have i longd to see my love againe\\r\\nsti...\n",
       "Name: content, dtype: object"
      ]
     },
     "execution_count": 330,
     "metadata": {},
     "output_type": "execute_result"
    }
   ],
   "source": [
    "# Removing all punctuation\n",
    "dataset['content'] = dataset['content'].str.replace('[^\\w\\s]','')\n",
    "dataset['content'].head()"
   ]
  },
  {
   "cell_type": "code",
   "execution_count": 331,
   "metadata": {},
   "outputs": [
    {
     "name": "stdout",
     "output_type": "stream",
     "text": [
      "50600\n"
     ]
    }
   ],
   "source": [
    "# Removing the stopwords\n",
    "\n",
    "import nltk\n",
    "from nltk.corpus import stopwords\n",
    "stop = stopwords.words('english')\n",
    "\n",
    "dataset['content'] = dataset['content'].apply(lambda x: ' '.join([word for word in x.split() if word not in (stop)]))\n",
    "\n",
    "count = 0\n",
    "for word in dataset.content:\n",
    "    word = word.split()\n",
    "    count += len(word)\n",
    "print(count)\n"
   ]
  },
  {
   "cell_type": "code",
   "execution_count": 332,
   "metadata": {},
   "outputs": [
    {
     "data": {
      "text/plain": [
       "['i',\n",
       " 'me',\n",
       " 'my',\n",
       " 'myself',\n",
       " 'we',\n",
       " 'our',\n",
       " 'ours',\n",
       " 'ourselves',\n",
       " 'you',\n",
       " \"you're\",\n",
       " \"you've\",\n",
       " \"you'll\",\n",
       " \"you'd\",\n",
       " 'your',\n",
       " 'yours',\n",
       " 'yourself',\n",
       " 'yourselves',\n",
       " 'he',\n",
       " 'him',\n",
       " 'his',\n",
       " 'himself',\n",
       " 'she',\n",
       " \"she's\",\n",
       " 'her',\n",
       " 'hers',\n",
       " 'herself',\n",
       " 'it',\n",
       " \"it's\",\n",
       " 'its',\n",
       " 'itself',\n",
       " 'they',\n",
       " 'them',\n",
       " 'their',\n",
       " 'theirs',\n",
       " 'themselves',\n",
       " 'what',\n",
       " 'which',\n",
       " 'who',\n",
       " 'whom',\n",
       " 'this',\n",
       " 'that',\n",
       " \"that'll\",\n",
       " 'these',\n",
       " 'those',\n",
       " 'am',\n",
       " 'is',\n",
       " 'are',\n",
       " 'was',\n",
       " 'were',\n",
       " 'be',\n",
       " 'been',\n",
       " 'being',\n",
       " 'have',\n",
       " 'has',\n",
       " 'had',\n",
       " 'having',\n",
       " 'do',\n",
       " 'does',\n",
       " 'did',\n",
       " 'doing',\n",
       " 'a',\n",
       " 'an',\n",
       " 'the',\n",
       " 'and',\n",
       " 'but',\n",
       " 'if',\n",
       " 'or',\n",
       " 'because',\n",
       " 'as',\n",
       " 'until',\n",
       " 'while',\n",
       " 'of',\n",
       " 'at',\n",
       " 'by',\n",
       " 'for',\n",
       " 'with',\n",
       " 'about',\n",
       " 'against',\n",
       " 'between',\n",
       " 'into',\n",
       " 'through',\n",
       " 'during',\n",
       " 'before',\n",
       " 'after',\n",
       " 'above',\n",
       " 'below',\n",
       " 'to',\n",
       " 'from',\n",
       " 'up',\n",
       " 'down',\n",
       " 'in',\n",
       " 'out',\n",
       " 'on',\n",
       " 'off',\n",
       " 'over',\n",
       " 'under',\n",
       " 'again',\n",
       " 'further',\n",
       " 'then',\n",
       " 'once',\n",
       " 'here',\n",
       " 'there',\n",
       " 'when',\n",
       " 'where',\n",
       " 'why',\n",
       " 'how',\n",
       " 'all',\n",
       " 'any',\n",
       " 'both',\n",
       " 'each',\n",
       " 'few',\n",
       " 'more',\n",
       " 'most',\n",
       " 'other',\n",
       " 'some',\n",
       " 'such',\n",
       " 'no',\n",
       " 'nor',\n",
       " 'not',\n",
       " 'only',\n",
       " 'own',\n",
       " 'same',\n",
       " 'so',\n",
       " 'than',\n",
       " 'too',\n",
       " 'very',\n",
       " 's',\n",
       " 't',\n",
       " 'can',\n",
       " 'will',\n",
       " 'just',\n",
       " 'don',\n",
       " \"don't\",\n",
       " 'should',\n",
       " \"should've\",\n",
       " 'now',\n",
       " 'd',\n",
       " 'll',\n",
       " 'm',\n",
       " 'o',\n",
       " 're',\n",
       " 've',\n",
       " 'y',\n",
       " 'ain',\n",
       " 'aren',\n",
       " \"aren't\",\n",
       " 'couldn',\n",
       " \"couldn't\",\n",
       " 'didn',\n",
       " \"didn't\",\n",
       " 'doesn',\n",
       " \"doesn't\",\n",
       " 'hadn',\n",
       " \"hadn't\",\n",
       " 'hasn',\n",
       " \"hasn't\",\n",
       " 'haven',\n",
       " \"haven't\",\n",
       " 'isn',\n",
       " \"isn't\",\n",
       " 'ma',\n",
       " 'mightn',\n",
       " \"mightn't\",\n",
       " 'mustn',\n",
       " \"mustn't\",\n",
       " 'needn',\n",
       " \"needn't\",\n",
       " 'shan',\n",
       " \"shan't\",\n",
       " 'shouldn',\n",
       " \"shouldn't\",\n",
       " 'wasn',\n",
       " \"wasn't\",\n",
       " 'weren',\n",
       " \"weren't\",\n",
       " 'won',\n",
       " \"won't\",\n",
       " 'wouldn',\n",
       " \"wouldn't\",\n",
       " 'doth',\n",
       " 'dost',\n",
       " 'hast',\n",
       " 'hath',\n",
       " 'hence',\n",
       " 'hither',\n",
       " 'nigh',\n",
       " 'oft',\n",
       " 'thither',\n",
       " 'thee',\n",
       " 'thou',\n",
       " 'thine',\n",
       " 'thy',\n",
       " 'wast',\n",
       " 'whence',\n",
       " 'wherefore',\n",
       " 'whereto',\n",
       " 'withal',\n",
       " 'ye',\n",
       " 'yon',\n",
       " 'yonder',\n",
       " \"'ere\"]"
      ]
     },
     "execution_count": 332,
     "metadata": {},
     "output_type": "execute_result"
    }
   ],
   "source": [
    "# Removing stopword for old english manually\n",
    "old_english_words = ['doth','dost','hast','hath','hence','hither','nigh','oft','thither','thee','thou','thine','thy',\n",
    "                    'wast','whence','wherefore','whereto','withal','ye','yon','yonder','\\'ere']\n",
    "\n",
    "stop.extend(old_english_words)\n",
    "stop\n",
    "\n"
   ]
  },
  {
   "cell_type": "code",
   "execution_count": 333,
   "metadata": {},
   "outputs": [
    {
     "name": "stdout",
     "output_type": "stream",
     "text": [
      "48702\n"
     ]
    }
   ],
   "source": [
    "dataset['content'] = dataset['content'].apply(lambda x: ' '.join([word for word in x.split() if word not in (stop)]))\n",
    "dataset.content.head()\n",
    "\n",
    "count = 0\n",
    "for word in dataset.content:\n",
    "    word = word.split()\n",
    "    count += len(word)\n",
    "print(count)\n"
   ]
  },
  {
   "cell_type": "code",
   "execution_count": 334,
   "metadata": {},
   "outputs": [],
   "source": [
    "# The number of words after preprocessing is less than 50,000"
   ]
  },
  {
   "cell_type": "code",
   "execution_count": 335,
   "metadata": {},
   "outputs": [
    {
     "data": {
      "text/plain": [
       "love      558\n",
       "like      265\n",
       "one       241\n",
       "shall     217\n",
       "may       216\n",
       "yet       205\n",
       "let       200\n",
       "eyes      185\n",
       "see       164\n",
       "still     164\n",
       "fair      158\n",
       "heart     147\n",
       "us        146\n",
       "day       143\n",
       "long      142\n",
       "upon      141\n",
       "make      136\n",
       "sweet     136\n",
       "whose     133\n",
       "come      127\n",
       "would     125\n",
       "light     125\n",
       "never     121\n",
       "though    118\n",
       "well      115\n",
       "time      114\n",
       "world     112\n",
       "must      111\n",
       "made      109\n",
       "night     107\n",
       "go        107\n",
       "beauty    106\n",
       "loves     105\n",
       "great     103\n",
       "old       103\n",
       "know      100\n",
       "men        97\n",
       "take       96\n",
       "till       95\n",
       "thus       94\n",
       "sing       94\n",
       "true       93\n",
       "might      93\n",
       "could      93\n",
       "since      92\n",
       "man        92\n",
       "every      88\n",
       "face       87\n",
       "ever       87\n",
       "mine       86\n",
       "dtype: int64"
      ]
     },
     "execution_count": 335,
     "metadata": {},
     "output_type": "execute_result"
    }
   ],
   "source": [
    "# Calculating the frequency of words here.\n",
    "freq = pd.Series(' '.join(dataset['content']).split()).value_counts()[:50]\n",
    "freq\n"
   ]
  },
  {
   "cell_type": "code",
   "execution_count": 336,
   "metadata": {},
   "outputs": [
    {
     "name": "stdout",
     "output_type": "stream",
     "text": [
      "<class 'pandas.core.frame.DataFrame'>\n",
      "RangeIndex: 513 entries, 0 to 512\n",
      "Data columns (total 5 columns):\n",
      "author       513 non-null object\n",
      "content      513 non-null object\n",
      "poem name    511 non-null object\n",
      "age          503 non-null object\n",
      "type         513 non-null object\n",
      "dtypes: object(5)\n",
      "memory usage: 20.1+ KB\n"
     ]
    }
   ],
   "source": [
    "dataset.info()"
   ]
  },
  {
   "cell_type": "code",
   "execution_count": 337,
   "metadata": {},
   "outputs": [
    {
     "data": {
      "text/plain": [
       "array(['Mythology & Folklore', 'Relationships', 'Nature', 'Love'],\n",
       "      dtype=object)"
      ]
     },
     "execution_count": 337,
     "metadata": {},
     "output_type": "execute_result"
    }
   ],
   "source": [
    "# Finding the genres of poems in the dataset\n",
    "genres = dataset.type.unique()\n",
    "genres"
   ]
  },
  {
   "cell_type": "code",
   "execution_count": 338,
   "metadata": {},
   "outputs": [],
   "source": [
    "# Creating the Bag of Words model\n",
    "from sklearn.feature_extraction.text import CountVectorizer\n",
    "cv = CountVectorizer(max_features = 11000)\n",
    "X = cv.fit_transform(dataset.content).toarray()\n",
    "y = dataset.iloc[:, -1:].values"
   ]
  },
  {
   "cell_type": "code",
   "execution_count": 339,
   "metadata": {},
   "outputs": [
    {
     "data": {
      "text/plain": [
       "(513, 11000)"
      ]
     },
     "execution_count": 339,
     "metadata": {},
     "output_type": "execute_result"
    }
   ],
   "source": [
    "X.shape"
   ]
  },
  {
   "cell_type": "code",
   "execution_count": 340,
   "metadata": {},
   "outputs": [],
   "source": [
    "# Splitting dataset into training and test set\n",
    "from sklearn.model_selection import train_test_split\n",
    "X_train, X_test, y_train, y_test = train_test_split(X, y, test_size = 0.25, random_state = 0)\n"
   ]
  },
  {
   "cell_type": "code",
   "execution_count": 341,
   "metadata": {},
   "outputs": [
    {
     "data": {
      "text/plain": [
       "<matplotlib.axes._subplots.AxesSubplot at 0x1a1e62b1d0>"
      ]
     },
     "execution_count": 341,
     "metadata": {},
     "output_type": "execute_result"
    },
    {
     "data": {
      "image/png": "[encoded data removed]",
      "text/plain": [
       "<Figure size 432x288 with 2 Axes>"
      ]
     },
     "metadata": {
      "needs_background": "light"
     },
     "output_type": "display_data"
    }
   ],
   "source": [
    "# Applying DecisionTreeClassifier\n",
    "from sklearn.tree import DecisionTreeClassifier\n",
    "classifier = DecisionTreeClassifier(criterion = \"gini\")\n",
    "classifier.fit(X_train, y_train)\n",
    "\n",
    "# Predicting the Test set results\n",
    "y_pred = classifier.predict(X_test)\n",
    "\n",
    "# Making the Confusion Matrix\n",
    "cm = confusion_matrix(y_test, y_pred)\n",
    "sns.heatmap(cm, annot = True, cmap = 'Greens')\n"
   ]
  },
  {
   "cell_type": "code",
   "execution_count": 342,
   "metadata": {},
   "outputs": [
    {
     "name": "stdout",
     "output_type": "stream",
     "text": [
      "0.6356589147286822\n"
     ]
    }
   ],
   "source": [
    "# calculate accuracy\n",
    "\n",
    "print(metrics.accuracy_score(y_test, y_pred))"
   ]
  },
  {
   "cell_type": "code",
   "execution_count": 343,
   "metadata": {},
   "outputs": [
    {
     "name": "stdout",
     "output_type": "stream",
     "text": [
      "                      precision    recall  f1-score   support\n",
      "\n",
      "                Love       0.77      0.73      0.75        66\n",
      "Mythology & Folklore       0.18      0.13      0.15        15\n",
      "              Nature       0.59      0.70      0.64        46\n",
      "       Relationships       0.00      0.00      0.00         2\n",
      "\n",
      "           micro avg       0.64      0.64      0.64       129\n",
      "           macro avg       0.39      0.39      0.39       129\n",
      "        weighted avg       0.63      0.64      0.63       129\n",
      "\n"
     ]
    }
   ],
   "source": [
    "print(classification_report(y_test, y_pred))"
   ]
  },
  {
   "cell_type": "code",
   "execution_count": 344,
   "metadata": {},
   "outputs": [
    {
     "name": "stderr",
     "output_type": "stream",
     "text": [
      "/anaconda3/lib/python3.7/site-packages/ipykernel_launcher.py:4: DataConversionWarning: A column-vector y was passed when a 1d array was expected. Please change the shape of y to (n_samples,), for example using ravel().\n",
      "  after removing the cwd from sys.path.\n"
     ]
    },
    {
     "data": {
      "text/plain": [
       "<matplotlib.axes._subplots.AxesSubplot at 0x1a1e60c518>"
      ]
     },
     "execution_count": 344,
     "metadata": {},
     "output_type": "execute_result"
    },
    {
     "data": {
      "image/png": "[encoded data removed]",
      "text/plain": [
       "<Figure size 432x288 with 2 Axes>"
      ]
     },
     "metadata": {
      "needs_background": "light"
     },
     "output_type": "display_data"
    }
   ],
   "source": [
    "# Applying RandomForestClassifier\n",
    "from sklearn.ensemble import RandomForestClassifier\n",
    "classifier = RandomForestClassifier(n_estimators = 150, criterion = \"gini\")\n",
    "classifier.fit(X_train, y_train)\n",
    "\n",
    "# Predicting the Test set results\n",
    "y_pred = classifier.predict(X_test)\n",
    "\n",
    "# Making the Confusion Matrix\n",
    "cm = confusion_matrix(y_test, y_pred)\n",
    "sns.heatmap(cm, annot = True, cmap = 'Greens')"
   ]
  },
  {
   "cell_type": "code",
   "execution_count": 345,
   "metadata": {},
   "outputs": [
    {
     "name": "stdout",
     "output_type": "stream",
     "text": [
      "0.6976744186046512\n"
     ]
    }
   ],
   "source": [
    "# Calculating accuracy\n",
    "print(metrics.accuracy_score(y_test, y_pred))"
   ]
  },
  {
   "cell_type": "code",
   "execution_count": 346,
   "metadata": {},
   "outputs": [
    {
     "name": "stdout",
     "output_type": "stream",
     "text": [
      "                      precision    recall  f1-score   support\n",
      "\n",
      "                Love       0.76      0.86      0.81        66\n",
      "Mythology & Folklore       0.12      0.07      0.09        15\n",
      "              Nature       0.70      0.70      0.70        46\n",
      "       Relationships       0.00      0.00      0.00         2\n",
      "\n",
      "           micro avg       0.70      0.70      0.70       129\n",
      "           macro avg       0.40      0.41      0.40       129\n",
      "        weighted avg       0.65      0.70      0.67       129\n",
      "\n"
     ]
    },
    {
     "name": "stderr",
     "output_type": "stream",
     "text": [
      "/anaconda3/lib/python3.7/site-packages/sklearn/metrics/classification.py:1143: UndefinedMetricWarning: Precision and F-score are ill-defined and being set to 0.0 in labels with no predicted samples.\n",
      "  'precision', 'predicted', average, warn_for)\n",
      "/anaconda3/lib/python3.7/site-packages/sklearn/metrics/classification.py:1143: UndefinedMetricWarning: Precision and F-score are ill-defined and being set to 0.0 in labels with no predicted samples.\n",
      "  'precision', 'predicted', average, warn_for)\n",
      "/anaconda3/lib/python3.7/site-packages/sklearn/metrics/classification.py:1143: UndefinedMetricWarning: Precision and F-score are ill-defined and being set to 0.0 in labels with no predicted samples.\n",
      "  'precision', 'predicted', average, warn_for)\n"
     ]
    }
   ],
   "source": [
    "print(classification_report(y_test, y_pred))"
   ]
  }
 ],
 "metadata": {
  "kernelspec": {
   "display_name": "Python 3",
   "language": "python",
   "name": "python3"
  },
  "language_info": {
   "codemirror_mode": {
    "name": "ipython",
    "version": 3
   },
   "file_extension": ".py",
   "mimetype": "text/x-python",
   "name": "python",
   "nbconvert_exporter": "python",
   "pygments_lexer": "ipython3",
   "version": "3.7.1"
  }
 },
 "nbformat": 4,
 "nbformat_minor": 2
}
